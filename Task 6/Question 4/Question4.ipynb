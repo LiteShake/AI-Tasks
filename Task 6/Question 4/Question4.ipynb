{
 "cells": [
  {
   "cell_type": "code",
   "execution_count": 20,
   "metadata": {},
   "outputs": [],
   "source": [
    "import numpy as np\n",
    "import seaborn as sus\n",
    "import pandas as pd\n",
    "import matplotlib.pyplot as plt"
   ]
  },
  {
   "cell_type": "code",
   "execution_count": 21,
   "metadata": {},
   "outputs": [
    {
     "data": {
      "text/html": [
       "<div>\n",
       "<style scoped>\n",
       "    .dataframe tbody tr th:only-of-type {\n",
       "        vertical-align: middle;\n",
       "    }\n",
       "\n",
       "    .dataframe tbody tr th {\n",
       "        vertical-align: top;\n",
       "    }\n",
       "\n",
       "    .dataframe thead th {\n",
       "        text-align: right;\n",
       "    }\n",
       "</style>\n",
       "<table border=\"1\" class=\"dataframe\">\n",
       "  <thead>\n",
       "    <tr style=\"text-align: right;\">\n",
       "      <th></th>\n",
       "      <th>CustomerID</th>\n",
       "      <th>Gender</th>\n",
       "      <th>Age</th>\n",
       "      <th>Annual Income (k$)</th>\n",
       "      <th>Spending Score (1-100)</th>\n",
       "    </tr>\n",
       "  </thead>\n",
       "  <tbody>\n",
       "    <tr>\n",
       "      <th>0</th>\n",
       "      <td>1</td>\n",
       "      <td>Male</td>\n",
       "      <td>19</td>\n",
       "      <td>15</td>\n",
       "      <td>39</td>\n",
       "    </tr>\n",
       "    <tr>\n",
       "      <th>1</th>\n",
       "      <td>2</td>\n",
       "      <td>Male</td>\n",
       "      <td>21</td>\n",
       "      <td>15</td>\n",
       "      <td>81</td>\n",
       "    </tr>\n",
       "    <tr>\n",
       "      <th>2</th>\n",
       "      <td>3</td>\n",
       "      <td>Female</td>\n",
       "      <td>20</td>\n",
       "      <td>16</td>\n",
       "      <td>6</td>\n",
       "    </tr>\n",
       "    <tr>\n",
       "      <th>3</th>\n",
       "      <td>4</td>\n",
       "      <td>Female</td>\n",
       "      <td>23</td>\n",
       "      <td>16</td>\n",
       "      <td>77</td>\n",
       "    </tr>\n",
       "    <tr>\n",
       "      <th>4</th>\n",
       "      <td>5</td>\n",
       "      <td>Female</td>\n",
       "      <td>31</td>\n",
       "      <td>17</td>\n",
       "      <td>40</td>\n",
       "    </tr>\n",
       "    <tr>\n",
       "      <th>...</th>\n",
       "      <td>...</td>\n",
       "      <td>...</td>\n",
       "      <td>...</td>\n",
       "      <td>...</td>\n",
       "      <td>...</td>\n",
       "    </tr>\n",
       "    <tr>\n",
       "      <th>195</th>\n",
       "      <td>196</td>\n",
       "      <td>Female</td>\n",
       "      <td>35</td>\n",
       "      <td>120</td>\n",
       "      <td>79</td>\n",
       "    </tr>\n",
       "    <tr>\n",
       "      <th>196</th>\n",
       "      <td>197</td>\n",
       "      <td>Female</td>\n",
       "      <td>45</td>\n",
       "      <td>126</td>\n",
       "      <td>28</td>\n",
       "    </tr>\n",
       "    <tr>\n",
       "      <th>197</th>\n",
       "      <td>198</td>\n",
       "      <td>Male</td>\n",
       "      <td>32</td>\n",
       "      <td>126</td>\n",
       "      <td>74</td>\n",
       "    </tr>\n",
       "    <tr>\n",
       "      <th>198</th>\n",
       "      <td>199</td>\n",
       "      <td>Male</td>\n",
       "      <td>32</td>\n",
       "      <td>137</td>\n",
       "      <td>18</td>\n",
       "    </tr>\n",
       "    <tr>\n",
       "      <th>199</th>\n",
       "      <td>200</td>\n",
       "      <td>Male</td>\n",
       "      <td>30</td>\n",
       "      <td>137</td>\n",
       "      <td>83</td>\n",
       "    </tr>\n",
       "  </tbody>\n",
       "</table>\n",
       "<p>200 rows × 5 columns</p>\n",
       "</div>"
      ],
      "text/plain": [
       "     CustomerID  Gender  Age  Annual Income (k$)  Spending Score (1-100)\n",
       "0             1    Male   19                  15                      39\n",
       "1             2    Male   21                  15                      81\n",
       "2             3  Female   20                  16                       6\n",
       "3             4  Female   23                  16                      77\n",
       "4             5  Female   31                  17                      40\n",
       "..          ...     ...  ...                 ...                     ...\n",
       "195         196  Female   35                 120                      79\n",
       "196         197  Female   45                 126                      28\n",
       "197         198    Male   32                 126                      74\n",
       "198         199    Male   32                 137                      18\n",
       "199         200    Male   30                 137                      83\n",
       "\n",
       "[200 rows x 5 columns]"
      ]
     },
     "execution_count": 21,
     "metadata": {},
     "output_type": "execute_result"
    }
   ],
   "source": [
    "df = pd.read_csv( \"./Assets/Mall_Customers.csv\" )\n",
    "df"
   ]
  },
  {
   "cell_type": "code",
   "execution_count": 22,
   "metadata": {},
   "outputs": [],
   "source": [
    "df = df.drop( columns = [ \"Gender\", \"Age\", \"CustomerID\" ] )"
   ]
  },
  {
   "cell_type": "code",
   "execution_count": 23,
   "metadata": {},
   "outputs": [
    {
     "data": {
      "text/html": [
       "<div>\n",
       "<style scoped>\n",
       "    .dataframe tbody tr th:only-of-type {\n",
       "        vertical-align: middle;\n",
       "    }\n",
       "\n",
       "    .dataframe tbody tr th {\n",
       "        vertical-align: top;\n",
       "    }\n",
       "\n",
       "    .dataframe thead th {\n",
       "        text-align: right;\n",
       "    }\n",
       "</style>\n",
       "<table border=\"1\" class=\"dataframe\">\n",
       "  <thead>\n",
       "    <tr style=\"text-align: right;\">\n",
       "      <th></th>\n",
       "      <th>Annual Income (k$)</th>\n",
       "      <th>Spending Score (1-100)</th>\n",
       "    </tr>\n",
       "  </thead>\n",
       "  <tbody>\n",
       "    <tr>\n",
       "      <th>0</th>\n",
       "      <td>15</td>\n",
       "      <td>39</td>\n",
       "    </tr>\n",
       "    <tr>\n",
       "      <th>1</th>\n",
       "      <td>15</td>\n",
       "      <td>81</td>\n",
       "    </tr>\n",
       "    <tr>\n",
       "      <th>2</th>\n",
       "      <td>16</td>\n",
       "      <td>6</td>\n",
       "    </tr>\n",
       "    <tr>\n",
       "      <th>3</th>\n",
       "      <td>16</td>\n",
       "      <td>77</td>\n",
       "    </tr>\n",
       "    <tr>\n",
       "      <th>4</th>\n",
       "      <td>17</td>\n",
       "      <td>40</td>\n",
       "    </tr>\n",
       "    <tr>\n",
       "      <th>...</th>\n",
       "      <td>...</td>\n",
       "      <td>...</td>\n",
       "    </tr>\n",
       "    <tr>\n",
       "      <th>195</th>\n",
       "      <td>120</td>\n",
       "      <td>79</td>\n",
       "    </tr>\n",
       "    <tr>\n",
       "      <th>196</th>\n",
       "      <td>126</td>\n",
       "      <td>28</td>\n",
       "    </tr>\n",
       "    <tr>\n",
       "      <th>197</th>\n",
       "      <td>126</td>\n",
       "      <td>74</td>\n",
       "    </tr>\n",
       "    <tr>\n",
       "      <th>198</th>\n",
       "      <td>137</td>\n",
       "      <td>18</td>\n",
       "    </tr>\n",
       "    <tr>\n",
       "      <th>199</th>\n",
       "      <td>137</td>\n",
       "      <td>83</td>\n",
       "    </tr>\n",
       "  </tbody>\n",
       "</table>\n",
       "<p>200 rows × 2 columns</p>\n",
       "</div>"
      ],
      "text/plain": [
       "     Annual Income (k$)  Spending Score (1-100)\n",
       "0                    15                      39\n",
       "1                    15                      81\n",
       "2                    16                       6\n",
       "3                    16                      77\n",
       "4                    17                      40\n",
       "..                  ...                     ...\n",
       "195                 120                      79\n",
       "196                 126                      28\n",
       "197                 126                      74\n",
       "198                 137                      18\n",
       "199                 137                      83\n",
       "\n",
       "[200 rows x 2 columns]"
      ]
     },
     "execution_count": 23,
     "metadata": {},
     "output_type": "execute_result"
    }
   ],
   "source": [
    "df"
   ]
  },
  {
   "cell_type": "code",
   "execution_count": 24,
   "metadata": {},
   "outputs": [],
   "source": [
    "new_df = df.copy()"
   ]
  },
  {
   "cell_type": "code",
   "execution_count": 25,
   "metadata": {},
   "outputs": [
    {
     "name": "stderr",
     "output_type": "stream",
     "text": [
      "c:\\Users\\straw\\AppData\\Local\\Programs\\Python\\Python310\\lib\\site-packages\\seaborn\\_decorators.py:36: FutureWarning: Pass the following variables as keyword args: x, y. From version 0.12, the only valid positional argument will be `data`, and passing other arguments without an explicit keyword will result in an error or misinterpretation.\n",
      "  warnings.warn(\n"
     ]
    },
    {
     "data": {
      "text/plain": [
       "<AxesSubplot:xlabel='Annual Income (k$)', ylabel='Spending Score (1-100)'>"
      ]
     },
     "execution_count": 25,
     "metadata": {},
     "output_type": "execute_result"
    },
    {
     "data": {
      "image/png": "[encoded data removed]",
      "text/plain": [
       "<Figure size 432x288 with 1 Axes>"
      ]
     },
     "metadata": {
      "needs_background": "light"
     },
     "output_type": "display_data"
    }
   ],
   "source": [
    "sus.scatterplot( df[\"Annual Income (k$)\"], df[\"Spending Score (1-100)\"] )"
   ]
  },
  {
   "cell_type": "code",
   "execution_count": 26,
   "metadata": {},
   "outputs": [],
   "source": [
    "from sklearn.cluster import Birch"
   ]
  },
  {
   "cell_type": "code",
   "execution_count": 27,
   "metadata": {},
   "outputs": [
    {
     "ename": "ValueError",
     "evalue": "ndarray is not C-contiguous",
     "output_type": "error",
     "traceback": [
      "\u001b[1;31m---------------------------------------------------------------------------\u001b[0m",
      "\u001b[1;31mValueError\u001b[0m                                Traceback (most recent call last)",
      "\u001b[1;32mc:\\Nerd Work\\C0GN1Z4NC3\\Cognizance Repo\\AI-Tasks\\Task 6\\Question 4\\Question4.ipynb Cell 8\u001b[0m in \u001b[0;36m<cell line: 2>\u001b[1;34m()\u001b[0m\n\u001b[0;32m      <a href='vscode-notebook-cell:/c%3A/Nerd%20Work/C0GN1Z4NC3/Cognizance%20Repo/AI-Tasks/Task%206/Question%204/Question4.ipynb#W6sZmlsZQ%3D%3D?line=0'>1</a>\u001b[0m brchmodel \u001b[39m=\u001b[39m Birch(branching_factor\u001b[39m=\u001b[39m\u001b[39m50\u001b[39m, n_clusters\u001b[39m=\u001b[39m\u001b[39mNone\u001b[39;00m, threshold\u001b[39m=\u001b[39m\u001b[39m1.5\u001b[39m)\n\u001b[1;32m----> <a href='vscode-notebook-cell:/c%3A/Nerd%20Work/C0GN1Z4NC3/Cognizance%20Repo/AI-Tasks/Task%206/Question%204/Question4.ipynb#W6sZmlsZQ%3D%3D?line=1'>2</a>\u001b[0m brchmodel\u001b[39m.\u001b[39mfit(df)\n",
      "File \u001b[1;32mc:\\Users\\straw\\AppData\\Local\\Programs\\Python\\Python310\\lib\\site-packages\\sklearn\\cluster\\_birch.py:548\u001b[0m, in \u001b[0;36mBirch.fit\u001b[1;34m(self, X, y)\u001b[0m\n\u001b[0;32m    546\u001b[0m \u001b[39m# TODO: Remove deprecated flags in 1.2\u001b[39;00m\n\u001b[0;32m    547\u001b[0m \u001b[39mself\u001b[39m\u001b[39m.\u001b[39m_deprecated_fit, \u001b[39mself\u001b[39m\u001b[39m.\u001b[39m_deprecated_partial_fit \u001b[39m=\u001b[39m \u001b[39mTrue\u001b[39;00m, \u001b[39mFalse\u001b[39;00m\n\u001b[1;32m--> 548\u001b[0m \u001b[39mreturn\u001b[39;00m \u001b[39mself\u001b[39;49m\u001b[39m.\u001b[39;49m_fit(X, partial\u001b[39m=\u001b[39;49m\u001b[39mFalse\u001b[39;49;00m)\n",
      "File \u001b[1;32mc:\\Users\\straw\\AppData\\Local\\Programs\\Python\\Python310\\lib\\site-packages\\sklearn\\cluster\\_birch.py:611\u001b[0m, in \u001b[0;36mBirch._fit\u001b[1;34m(self, X, partial)\u001b[0m\n\u001b[0;32m    608\u001b[0m \u001b[39mself\u001b[39m\u001b[39m.\u001b[39msubcluster_centers_ \u001b[39m=\u001b[39m centroids\n\u001b[0;32m    609\u001b[0m \u001b[39mself\u001b[39m\u001b[39m.\u001b[39m_n_features_out \u001b[39m=\u001b[39m \u001b[39mself\u001b[39m\u001b[39m.\u001b[39msubcluster_centers_\u001b[39m.\u001b[39mshape[\u001b[39m0\u001b[39m]\n\u001b[1;32m--> 611\u001b[0m \u001b[39mself\u001b[39;49m\u001b[39m.\u001b[39;49m_global_clustering(X)\n\u001b[0;32m    612\u001b[0m \u001b[39mreturn\u001b[39;00m \u001b[39mself\u001b[39m\n",
      "File \u001b[1;32mc:\\Users\\straw\\AppData\\Local\\Programs\\Python\\Python310\\lib\\site-packages\\sklearn\\cluster\\_birch.py:760\u001b[0m, in \u001b[0;36mBirch._global_clustering\u001b[1;34m(self, X)\u001b[0m\n\u001b[0;32m    757\u001b[0m     \u001b[39mself\u001b[39m\u001b[39m.\u001b[39msubcluster_labels_ \u001b[39m=\u001b[39m clusterer\u001b[39m.\u001b[39mfit_predict(\u001b[39mself\u001b[39m\u001b[39m.\u001b[39msubcluster_centers_)\n\u001b[0;32m    759\u001b[0m \u001b[39mif\u001b[39;00m compute_labels:\n\u001b[1;32m--> 760\u001b[0m     \u001b[39mself\u001b[39m\u001b[39m.\u001b[39mlabels_ \u001b[39m=\u001b[39m \u001b[39mself\u001b[39;49m\u001b[39m.\u001b[39;49m_predict(X)\n",
      "File \u001b[1;32mc:\\Users\\straw\\AppData\\Local\\Programs\\Python\\Python310\\lib\\site-packages\\sklearn\\cluster\\_birch.py:694\u001b[0m, in \u001b[0;36mBirch._predict\u001b[1;34m(self, X)\u001b[0m\n\u001b[0;32m    691\u001b[0m kwargs \u001b[39m=\u001b[39m {\u001b[39m\"\u001b[39m\u001b[39mY_norm_squared\u001b[39m\u001b[39m\"\u001b[39m: \u001b[39mself\u001b[39m\u001b[39m.\u001b[39m_subcluster_norms}\n\u001b[0;32m    693\u001b[0m \u001b[39mwith\u001b[39;00m config_context(assume_finite\u001b[39m=\u001b[39m\u001b[39mTrue\u001b[39;00m):\n\u001b[1;32m--> 694\u001b[0m     argmin \u001b[39m=\u001b[39m pairwise_distances_argmin(\n\u001b[0;32m    695\u001b[0m         X, \u001b[39mself\u001b[39;49m\u001b[39m.\u001b[39;49msubcluster_centers_, metric_kwargs\u001b[39m=\u001b[39;49mkwargs\n\u001b[0;32m    696\u001b[0m     )\n\u001b[0;32m    697\u001b[0m \u001b[39mreturn\u001b[39;00m \u001b[39mself\u001b[39m\u001b[39m.\u001b[39msubcluster_labels_[argmin]\n",
      "File \u001b[1;32mc:\\Users\\straw\\AppData\\Local\\Programs\\Python\\Python310\\lib\\site-packages\\sklearn\\metrics\\pairwise.py:791\u001b[0m, in \u001b[0;36mpairwise_distances_argmin\u001b[1;34m(X, Y, axis, metric, metric_kwargs)\u001b[0m\n\u001b[0;32m    788\u001b[0m         metric \u001b[39m=\u001b[39m \u001b[39m\"\u001b[39m\u001b[39msqeuclidean\u001b[39m\u001b[39m\"\u001b[39m\n\u001b[0;32m    789\u001b[0m         metric_kwargs \u001b[39m=\u001b[39m {}\n\u001b[1;32m--> 791\u001b[0m     indices \u001b[39m=\u001b[39m PairwiseDistancesArgKmin\u001b[39m.\u001b[39;49mcompute(\n\u001b[0;32m    792\u001b[0m         X\u001b[39m=\u001b[39;49mX,\n\u001b[0;32m    793\u001b[0m         Y\u001b[39m=\u001b[39;49mY,\n\u001b[0;32m    794\u001b[0m         k\u001b[39m=\u001b[39;49m\u001b[39m1\u001b[39;49m,\n\u001b[0;32m    795\u001b[0m         metric\u001b[39m=\u001b[39;49mmetric,\n\u001b[0;32m    796\u001b[0m         metric_kwargs\u001b[39m=\u001b[39;49mmetric_kwargs,\n\u001b[0;32m    797\u001b[0m         strategy\u001b[39m=\u001b[39;49m\u001b[39m\"\u001b[39;49m\u001b[39mauto\u001b[39;49m\u001b[39m\"\u001b[39;49m,\n\u001b[0;32m    798\u001b[0m         return_distance\u001b[39m=\u001b[39;49m\u001b[39mFalse\u001b[39;49;00m,\n\u001b[0;32m    799\u001b[0m     )\n\u001b[0;32m    800\u001b[0m     indices \u001b[39m=\u001b[39m indices\u001b[39m.\u001b[39mflatten()\n\u001b[0;32m    801\u001b[0m \u001b[39melse\u001b[39;00m:\n\u001b[0;32m    802\u001b[0m     \u001b[39m# TODO: once PairwiseDistancesArgKmin supports sparse input matrices and 32 bit,\u001b[39;00m\n\u001b[0;32m    803\u001b[0m     \u001b[39m# we won't need to fallback to pairwise_distances_chunked anymore.\u001b[39;00m\n\u001b[0;32m    804\u001b[0m \n\u001b[0;32m    805\u001b[0m     \u001b[39m# Turn off check for finiteness because this is costly and because arrays\u001b[39;00m\n\u001b[0;32m    806\u001b[0m     \u001b[39m# have already been validated.\u001b[39;00m\n",
      "File \u001b[1;32msklearn\\metrics\\_pairwise_distances_reduction.pyx:672\u001b[0m, in \u001b[0;36msklearn.metrics._pairwise_distances_reduction.PairwiseDistancesArgKmin.compute\u001b[1;34m()\u001b[0m\n",
      "File \u001b[1;32msklearn\\metrics\\_pairwise_distances_reduction.pyx:1055\u001b[0m, in \u001b[0;36msklearn.metrics._pairwise_distances_reduction.FastEuclideanPairwiseDistancesArgKmin.__init__\u001b[1;34m()\u001b[0m\n",
      "File \u001b[1;32msklearn\\metrics\\_dist_metrics.pyx:1300\u001b[0m, in \u001b[0;36msklearn.metrics._dist_metrics.DatasetsPair.get_for\u001b[1;34m()\u001b[0m\n",
      "File \u001b[1;32msklearn\\metrics\\_dist_metrics.pyx:1348\u001b[0m, in \u001b[0;36msklearn.metrics._dist_metrics.DenseDenseDatasetsPair.__init__\u001b[1;34m()\u001b[0m\n",
      "File \u001b[1;32mstringsource:658\u001b[0m, in \u001b[0;36mView.MemoryView.memoryview_cwrapper\u001b[1;34m()\u001b[0m\n",
      "File \u001b[1;32mstringsource:349\u001b[0m, in \u001b[0;36mView.MemoryView.memoryview.__cinit__\u001b[1;34m()\u001b[0m\n",
      "\u001b[1;31mValueError\u001b[0m: ndarray is not C-contiguous"
     ]
    }
   ],
   "source": [
    "brchmodel = Birch(branching_factor=50, n_clusters=None, threshold=1.5)\n",
    "brchmodel.fit(df)"
   ]
  },
  {
   "cell_type": "code",
   "execution_count": 29,
   "metadata": {},
   "outputs": [
    {
     "ename": "ModuleNotFoundError",
     "evalue": "No module named 'sklearn.datasets.samples_generator'",
     "output_type": "error",
     "traceback": [
      "\u001b[1;31m---------------------------------------------------------------------------\u001b[0m",
      "\u001b[1;31mModuleNotFoundError\u001b[0m                       Traceback (most recent call last)",
      "\u001b[1;32mc:\\Nerd Work\\C0GN1Z4NC3\\Cognizance Repo\\AI-Tasks\\Task 6\\Question 4\\Question4.ipynb Cell 9\u001b[0m in \u001b[0;36m<cell line: 1>\u001b[1;34m()\u001b[0m\n\u001b[1;32m----> <a href='vscode-notebook-cell:/c%3A/Nerd%20Work/C0GN1Z4NC3/Cognizance%20Repo/AI-Tasks/Task%206/Question%204/Question4.ipynb#X11sZmlsZQ%3D%3D?line=0'>1</a>\u001b[0m \u001b[39mfrom\u001b[39;00m \u001b[39msklearn\u001b[39;00m\u001b[39m.\u001b[39;00m\u001b[39mdatasets\u001b[39;00m\u001b[39m.\u001b[39;00m\u001b[39msamples_generator\u001b[39;00m \u001b[39mimport\u001b[39;00m make_blobs\n\u001b[0;32m      <a href='vscode-notebook-cell:/c%3A/Nerd%20Work/C0GN1Z4NC3/Cognizance%20Repo/AI-Tasks/Task%206/Question%204/Question4.ipynb#X11sZmlsZQ%3D%3D?line=1'>2</a>\u001b[0m X, clusters \u001b[39m=\u001b[39m make_blobs(n_samples\u001b[39m=\u001b[39m\u001b[39m450\u001b[39m, centers\u001b[39m=\u001b[39m\u001b[39m6\u001b[39m, cluster_std\u001b[39m=\u001b[39m\u001b[39m0.70\u001b[39m, random_state\u001b[39m=\u001b[39m\u001b[39m0\u001b[39m)\n",
      "\u001b[1;31mModuleNotFoundError\u001b[0m: No module named 'sklearn.datasets.samples_generator'"
     ]
    }
   ],
   "source": [
    "from sklearn.datasets.samples_generator import make_blobs\n",
    "X, clusters = make_blobs(n_samples=450, centers=6, cluster_std=0.70, random_state=0)"
   ]
  }
 ],
 "metadata": {
  "kernelspec": {
   "display_name": "Python 3.10.4 64-bit",
   "language": "python",
   "name": "python3"
  },
  "language_info": {
   "codemirror_mode": {
    "name": "ipython",
    "version": 3
   },
   "file_extension": ".py",
   "mimetype": "text/x-python",
   "name": "python",
   "nbconvert_exporter": "python",
   "pygments_lexer": "ipython3",
   "version": "3.10.4"
  },
  "orig_nbformat": 4,
  "vscode": {
   "interpreter": {
    "hash": "d1ef2e27f095bcb051051857f0ffc56cf5a9ec7a9ad8f117b8c8e9beab863316"
   }
  }
 },
 "nbformat": 4,
 "nbformat_minor": 2
}
