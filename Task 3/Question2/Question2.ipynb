{
 "cells": [
  {
   "cell_type": "markdown",
   "metadata": {},
   "source": [
    "QUESTION 2 A\n",
    "<hr>\n",
    "How will you replace all the values greater than a given value to a given cutoff from the array a, replace all values greater than 45 to 45 and less than 15 to 15.\n",
    "<hr>\n",
    "np.random.seed(100) <br>\n",
    "a = np.random.uniform(1,50, 20) <br> \n",
    "Hint : Use np.clip and np.where <br>"
   ]
  },
  {
   "cell_type": "code",
   "execution_count": 1,
   "metadata": {},
   "outputs": [],
   "source": [
    "import numpy as np"
   ]
  },
  {
   "cell_type": "code",
   "execution_count": 2,
   "metadata": {},
   "outputs": [],
   "source": [
    "np.random.seed(100) \n",
    "a = np.random.uniform(1,50, 20)"
   ]
  },
  {
   "cell_type": "code",
   "execution_count": 3,
   "metadata": {},
   "outputs": [
    {
     "data": {
      "text/plain": [
       "array([27.62684215, 14.64009987, 21.80136195, 42.39403048,  1.23122395,\n",
       "        6.95688692, 33.86670515, 41.466785  ,  7.69862289, 29.17957314,\n",
       "       44.67477576, 11.25090398, 10.08108276,  6.31046763, 11.76517714,\n",
       "       48.95256545, 40.77247431,  9.42510962, 40.99501269, 14.42961361])"
      ]
     },
     "execution_count": 3,
     "metadata": {},
     "output_type": "execute_result"
    }
   ],
   "source": [
    "a"
   ]
  },
  {
   "cell_type": "code",
   "execution_count": 4,
   "metadata": {},
   "outputs": [
    {
     "data": {
      "text/plain": [
       "array([27.62684215, 15.        , 21.80136195, 42.39403048, 15.        ,\n",
       "       15.        , 33.86670515, 41.466785  , 15.        , 29.17957314,\n",
       "       44.67477576, 15.        , 15.        , 15.        , 15.        ,\n",
       "       45.        , 40.77247431, 15.        , 40.99501269, 15.        ])"
      ]
     },
     "execution_count": 4,
     "metadata": {},
     "output_type": "execute_result"
    }
   ],
   "source": [
    "np.clip(a,15, 45)"
   ]
  },
  {
   "cell_type": "markdown",
   "metadata": {},
   "source": [
    "QUESTION 2 B\n",
    "<hr>\n",
    "Write a python program to split a text column into two separate columns using pandas.\n",
    "<hr>\n",
    "df = pd.DataFrame([\"STD, City ,state\"]) \n",
    "\"33, Mumbai   Maharashtra\", \n",
    "\"44, Chennai    Tamil Nadu\", \n",
    "\"40,Vishakapatnam    Telengana\", \n",
    "\"80, Bangalore    Karnataka\"], columns=['row'])"
   ]
  },
  {
   "cell_type": "code",
   "execution_count": 54,
   "metadata": {},
   "outputs": [],
   "source": [
    "import pandas as pd"
   ]
  },
  {
   "cell_type": "code",
   "execution_count": 112,
   "metadata": {},
   "outputs": [
    {
     "data": {
      "text/html": [
       "<div>\n",
       "<style scoped>\n",
       "    .dataframe tbody tr th:only-of-type {\n",
       "        vertical-align: middle;\n",
       "    }\n",
       "\n",
       "    .dataframe tbody tr th {\n",
       "        vertical-align: top;\n",
       "    }\n",
       "\n",
       "    .dataframe thead th {\n",
       "        text-align: right;\n",
       "    }\n",
       "</style>\n",
       "<table border=\"1\" class=\"dataframe\">\n",
       "  <thead>\n",
       "    <tr style=\"text-align: right;\">\n",
       "      <th></th>\n",
       "      <th>row</th>\n",
       "    </tr>\n",
       "  </thead>\n",
       "  <tbody>\n",
       "    <tr>\n",
       "      <th>0</th>\n",
       "      <td>STD, City ,state</td>\n",
       "    </tr>\n",
       "    <tr>\n",
       "      <th>1</th>\n",
       "      <td>33, Mumbai   Maharashtra</td>\n",
       "    </tr>\n",
       "    <tr>\n",
       "      <th>2</th>\n",
       "      <td>44, Chennai    Tamil Nadu</td>\n",
       "    </tr>\n",
       "    <tr>\n",
       "      <th>3</th>\n",
       "      <td>40,Vishakapatnam    Telengana</td>\n",
       "    </tr>\n",
       "    <tr>\n",
       "      <th>4</th>\n",
       "      <td>80, Bangalore    Karnataka</td>\n",
       "    </tr>\n",
       "  </tbody>\n",
       "</table>\n",
       "</div>"
      ],
      "text/plain": [
       "                             row\n",
       "0               STD, City ,state\n",
       "1       33, Mumbai   Maharashtra\n",
       "2      44, Chennai    Tamil Nadu\n",
       "3  40,Vishakapatnam    Telengana\n",
       "4     80, Bangalore    Karnataka"
      ]
     },
     "execution_count": 112,
     "metadata": {},
     "output_type": "execute_result"
    }
   ],
   "source": [
    "df = pd.DataFrame([\"STD, City ,state\",\n",
    "\"33, Mumbai   Maharashtra\", \n",
    "\"44, Chennai    Tamil Nadu\", \n",
    "\"40,Vishakapatnam    Telengana\", \n",
    "\"80, Bangalore    Karnataka\"], columns=['row'])\n",
    "df"
   ]
  },
  {
   "cell_type": "code",
   "execution_count": 114,
   "metadata": {},
   "outputs": [
    {
     "name": "stdout",
     "output_type": "stream",
     "text": [
      "[[33, 'Mumbai', ' Maharashtra'], [44, 'Chennai', 'Tamil Nadu'], [40, 'Vishakapatnam', 'Telengana'], [80, 'Bangalore', 'Karnataka']]\n"
     ]
    },
    {
     "data": {
      "text/html": [
       "<div>\n",
       "<style scoped>\n",
       "    .dataframe tbody tr th:only-of-type {\n",
       "        vertical-align: middle;\n",
       "    }\n",
       "\n",
       "    .dataframe tbody tr th {\n",
       "        vertical-align: top;\n",
       "    }\n",
       "\n",
       "    .dataframe thead th {\n",
       "        text-align: right;\n",
       "    }\n",
       "</style>\n",
       "<table border=\"1\" class=\"dataframe\">\n",
       "  <thead>\n",
       "    <tr style=\"text-align: right;\">\n",
       "      <th></th>\n",
       "      <th>STD</th>\n",
       "      <th>City</th>\n",
       "      <th>State</th>\n",
       "    </tr>\n",
       "  </thead>\n",
       "  <tbody>\n",
       "    <tr>\n",
       "      <th>0</th>\n",
       "      <td>33</td>\n",
       "      <td>Mumbai</td>\n",
       "      <td>Maharashtra</td>\n",
       "    </tr>\n",
       "    <tr>\n",
       "      <th>1</th>\n",
       "      <td>44</td>\n",
       "      <td>Chennai</td>\n",
       "      <td>Tamil Nadu</td>\n",
       "    </tr>\n",
       "    <tr>\n",
       "      <th>2</th>\n",
       "      <td>40</td>\n",
       "      <td>Vishakapatnam</td>\n",
       "      <td>Telengana</td>\n",
       "    </tr>\n",
       "    <tr>\n",
       "      <th>3</th>\n",
       "      <td>80</td>\n",
       "      <td>Bangalore</td>\n",
       "      <td>Karnataka</td>\n",
       "    </tr>\n",
       "  </tbody>\n",
       "</table>\n",
       "</div>"
      ],
      "text/plain": [
       "   STD           City         State\n",
       "0   33         Mumbai   Maharashtra\n",
       "1   44        Chennai    Tamil Nadu\n",
       "2   40  Vishakapatnam     Telengana\n",
       "3   80      Bangalore     Karnataka"
      ]
     },
     "execution_count": 114,
     "metadata": {},
     "output_type": "execute_result"
    }
   ],
   "source": [
    "content = []\n",
    "\n",
    "i = 1\n",
    "\n",
    "while True :\n",
    "\n",
    "    try : \n",
    "        row = df.iloc[i].values.tolist() [0]\n",
    "\n",
    "        ls = []\n",
    "\n",
    "        ls.append( int(row.split( \",\" )[0]) )\n",
    "        \n",
    "        for x in row.split( \",\" )[1].strip().split(\"  \") :\n",
    "\n",
    "            if( x != \"\" ) :\n",
    "                ls.append( x )\n",
    "                \n",
    "        content.append(ls)\n",
    "\n",
    "    except : break\n",
    "\n",
    "    i += 1\n",
    "    \n",
    "print( content )\n",
    "df1 = pd.DataFrame( content ,columns=[\"STD\",\"City\",\"State\"],index=range(4))\n",
    "df1 \n",
    "\n",
    "# df1 = pd.DataFrame( content ,columns=[\"STD\",\"City\",\"State\"],index=range(3))"
   ]
  }
 ],
 "metadata": {
  "kernelspec": {
   "display_name": "Python 3.10.4 64-bit",
   "language": "python",
   "name": "python3"
  },
  "language_info": {
   "codemirror_mode": {
    "name": "ipython",
    "version": 3
   },
   "file_extension": ".py",
   "mimetype": "text/x-python",
   "name": "python",
   "nbconvert_exporter": "python",
   "pygments_lexer": "ipython3",
   "version": "3.10.4"
  },
  "orig_nbformat": 4,
  "vscode": {
   "interpreter": {
    "hash": "d1ef2e27f095bcb051051857f0ffc56cf5a9ec7a9ad8f117b8c8e9beab863316"
   }
  }
 },
 "nbformat": 4,
 "nbformat_minor": 2
}
